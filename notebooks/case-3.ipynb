{
 "cells": [
  {
   "cell_type": "markdown",
   "id": "51a73a4a",
   "metadata": {},
   "source": [
    "\n",
    "\n",
    "# **Proyecto C: Optimización en la Planificación de Rutas Nacionales y Estrategia de Recarga para Logistico**\n",
    "\n",
    "## Caso 3\n",
    "\n",
    "\n"
   ]
  },
  {
   "cell_type": "markdown",
   "id": "76e87c1c",
   "metadata": {},
   "source": [
    "El objetivo del Caso 3 es extender el CVRP anterior para:\n",
    "\n",
    "- Incorporar restricciones de peso por municipio, asociadas a normativas locales.\n",
    "- Incluir peajes con tarifas variables según el peso y tramo recorrido.\n",
    "- Determinar estrategias conjuntas de ruteo y recarga, optimizando el costo total nacional"
   ]
  }
 ],
 "metadata": {
  "kernelspec": {
   "display_name": "pyomo_env",
   "language": "python",
   "name": "python3"
  },
  "language_info": {
   "codemirror_mode": {
    "name": "ipython",
    "version": 3
   },
   "file_extension": ".py",
   "mimetype": "text/x-python",
   "name": "python",
   "nbconvert_exporter": "python",
   "pygments_lexer": "ipython3",
   "version": "3.9.21"
  }
 },
 "nbformat": 4,
 "nbformat_minor": 5
}
